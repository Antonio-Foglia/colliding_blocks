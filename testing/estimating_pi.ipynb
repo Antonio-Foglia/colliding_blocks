{
 "cells": [
  {
   "cell_type": "code",
   "execution_count": 1,
   "metadata": {},
   "outputs": [],
   "source": [
    "import time"
   ]
  },
  {
   "cell_type": "code",
   "execution_count": 2,
   "metadata": {},
   "outputs": [],
   "source": [
    "\n",
    "'''the coordinate of the wall'''\n",
    "WALL = 0\n",
    "\n",
    "'''\n",
    "boxes are dictionaries that contain: \n",
    "* x coordinate of lower left corner: x1\n",
    "* width: w\n",
    "* velocity: v\n",
    "* mass: m\n",
    "\n",
    "main function parameyers:\n",
    "* 2 boxes\n",
    "* realtime: whether the user wants to the simulation to run in real time\n",
    "* interval: the time elapsed between updates\n",
    "'''\n",
    "\n",
    "def main(box1, box2,realtime=False, sim_time = float('inf'), interval=0.0001):\n",
    "    \n",
    "    '''total time elapsed'''\n",
    "    t = interval\n",
    "    collisions = 0\n",
    "    \n",
    "    while t < sim_time:\n",
    "        \n",
    "        #start = time.time()\n",
    "        \n",
    "        '''move the boxes to the new position in interval'''\n",
    "        box1 = move(box1, interval)\n",
    "        box2 = move(box2, interval)\n",
    "        t += interval\n",
    "        \n",
    "        '''check and solve for collision between box1 and WALL'''\n",
    "        if box1['x1'] <= WALL:\n",
    "            box1 = collision_with_wall(box1)\n",
    "            collisions += 1\n",
    "            if realtime:\n",
    "                print(collisions,end = \"\\r\")\n",
    "                #print('box1: {} \\nbox2: {}'.format(box1,box2))\n",
    "                #print(str(collisions) + \"(wall)\" ,end = \"\\r\")\n",
    "            \n",
    "        '''check and solve for collision between box2 and WALL'''\n",
    "        if box2['x1'] <= WALL:\n",
    "            box2 = collision_with_wall(box2)\n",
    "            collisions += 1\n",
    "            if realtime:\n",
    "                print(collisions,end = \"\\r\")\n",
    "                #print('box1: {} \\nbox2: {}'.format(box1,box2))\n",
    "            \n",
    "        '''check and solve for collsion between two boxes'''\n",
    "        if box1['x1']+box1['w'] >= box2['x1']:\n",
    "            box1, box2 = collision(box1, box2)\n",
    "            collisions += 1\n",
    "            if realtime:\n",
    "                print(collisions,end = \"\\r\")\n",
    "                #print('box1: {} \\nbox2: {}'.format(box1,box2))\n",
    "                #print(str(collisions) + \"(boxs)\" ,end = \"\\r\")\n",
    "        \n",
    "        '''check if any further collsions are going to happen'''\n",
    "        if terminal(box1,box2):\n",
    "            return box1,box2,collisions\n",
    "            \n",
    "        \n",
    "        '''if realtime, stop the simulation for the given interval'''\n",
    "        #end = time.time()\n",
    "        if realtime:\n",
    "            #if interval-(end - start) > 0:\n",
    "                time.sleep(interval)#-(end - start))\n",
    "        \n",
    "    return box1,box2,collisions\n",
    "    "
   ]
  },
  {
   "cell_type": "code",
   "execution_count": 3,
   "metadata": {},
   "outputs": [],
   "source": [
    "\n",
    "'''updates the position of a box given the velocity'''\n",
    "def move( box , interval):\n",
    "    box['x1'] = box['x1'] + box['v'] * interval\n",
    "    return box\n",
    "\n",
    "'''perfectly elastic collision with wall'''\n",
    "def collision_with_wall(box):\n",
    "    #box['x1'] = WALL\n",
    "    box['v'] *= -1\n",
    "    return box\n",
    "\n",
    "'''perfectly elastic ollisions between blocks'''\n",
    "def collision(box1, box2):\n",
    "    \n",
    "    m1 = box1['m']\n",
    "    m2 = box2['m']\n",
    "    u1 = box1['v']\n",
    "    u2 = box2['v']\n",
    "    \n",
    "    '''solving equations using momentum and kinetic energy'''\n",
    "    box1['v']= (m1-m2)/(m1+m2) * u1 + 2*m2/(m1+m2) * u2\n",
    "    \n",
    "    box2['v']= (m2-m1)/(m1+m2) * u2 + 2*m1/(m1+m2) * u1\n",
    "    \n",
    "    \n",
    "    return box1,box2\n",
    "\n",
    "'''check for the terminal state'''\n",
    "def terminal(box1,box2):\n",
    "    \n",
    "    if box2['v'] >= box1['v'] and box1['v'] > 0 and box2['v'] > 0:\n",
    "        return True\n",
    "    \n",
    "    return False\n",
    "    "
   ]
  },
  {
   "cell_type": "code",
   "execution_count": 4,
   "metadata": {
    "scrolled": true
   },
   "outputs": [
    {
     "data": {
      "text/plain": [
       "({'x1': 8.374407865960288, 'w': 1, 'v': 1.218897198972515, 'm': 1},\n",
       " {'x1': 9.374322600833576, 'w': 2, 'v': 2.999999752381648, 'm': 1000000},\n",
       " 3141)"
      ]
     },
     "execution_count": 4,
     "metadata": {},
     "output_type": "execute_result"
    }
   ],
   "source": [
    "'''if b1 and b2 are powers of 100, the total collisions will be equal to the digits of pi'''\n",
    "b1 ={'x1':5 , 'w': 1, 'v' : 0 , 'm': 1 }\n",
    "b2 = {'x1':10 , 'w': 2, 'v' : -3, 'm': 100**3 }\n",
    "main(b1,b2)"
   ]
  },
  {
   "cell_type": "code",
   "execution_count": null,
   "metadata": {},
   "outputs": [],
   "source": []
  }
 ],
 "metadata": {
  "kernelspec": {
   "display_name": "Python 3",
   "language": "python",
   "name": "python3"
  },
  "language_info": {
   "codemirror_mode": {
    "name": "ipython",
    "version": 3
   },
   "file_extension": ".py",
   "mimetype": "text/x-python",
   "name": "python",
   "nbconvert_exporter": "python",
   "pygments_lexer": "ipython3",
   "version": "3.7.6"
  }
 },
 "nbformat": 4,
 "nbformat_minor": 4
}
