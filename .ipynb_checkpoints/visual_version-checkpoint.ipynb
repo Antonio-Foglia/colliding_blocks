{
 "cells": [
  {
   "cell_type": "code",
   "execution_count": 1,
   "metadata": {},
   "outputs": [],
   "source": [
    "import turtle\n",
    "import time"
   ]
  },
  {
   "cell_type": "code",
   "execution_count": 57,
   "metadata": {},
   "outputs": [],
   "source": [
    "# don't change these unless you know what you are doing\n",
    "\n",
    "WALL = 0\n",
    "\n",
    "SHIFT = -300\n",
    "\n",
    "SCALE = 30 #30 for 20m canvas"
   ]
  },
  {
   "cell_type": "code",
   "execution_count": 64,
   "metadata": {},
   "outputs": [],
   "source": [
    "def main2(box1, box2):\n",
    "    \n",
    "    import turtle\n",
    "    \n",
    "    curr_wall = WALL*100+SHIFT\n",
    "    \n",
    "    collisions = 0\n",
    "    \n",
    "    wn = turtle.Screen()\n",
    "    wn.bgcolor(\"black\")\n",
    "    wn.title(\"Blocks\")\n",
    "    #wn.tracer(0)\n",
    "    \n",
    "    label = turtle.Turtle()\n",
    "    label.penup()\n",
    "    label.hideturtle()\n",
    "    label.color(\"white\")\n",
    "    label.goto(200,200)\n",
    "    label.write(\"Collisions: {}\".format(collisions), move=False, align=\"left\", font=(\"Deja Vu Sans Mono\", 15, \"normal\"))\n",
    "    \n",
    "    mlabel = turtle.Turtle()\n",
    "    mlabel.penup()\n",
    "    mlabel.hideturtle()\n",
    "    mlabel.color(\"green\")\n",
    "    mlabel.goto(-200,200)\n",
    "    mlabel.write(\"green mass: {}\".format(box1['m']), move=False, align=\"left\", font=(\"Deja Vu Sans Mono\", 15, \"normal\"))\n",
    "    mlabel.color(\"blue\")\n",
    "    mlabel.goto(0,200)\n",
    "    mlabel.write(\"blue mass: {}\".format(box2['m']), move=False, align=\"left\", font=(\"Deja Vu Sans Mono\", 15, \"normal\"))\n",
    "    \n",
    "    wall = turtle.Turtle()\n",
    "    wall.color(\"white\")\n",
    "    wall.speed(0)\n",
    "    wall.penup()\n",
    "    wall.goto(300,0)\n",
    "    wall.pendown()\n",
    "    wall.goto(WALL*100+SHIFT, 0 )\n",
    "    wall.goto(WALL*100+SHIFT, SCALE*10)\n",
    "    wall.hideturtle()\n",
    "    \n",
    "    b1 = turtle.Turtle()\n",
    "    b1.shape(\"square\")\n",
    "    b1.shapesize(stretch_wid=box1['w']/2*SCALE/10, stretch_len=box1['w']/2*SCALE/10, outline=None)\n",
    "    b1.color(\"green\")\n",
    "    b1.penup()\n",
    "    b1.speed(0)\n",
    "    b1.goto( box1['x1']*SCALE + box1['w']/2*SCALE + SHIFT , box1['w']/2*SCALE )\n",
    "    b1.dx = box1['v']*SCALE/30\n",
    "    \n",
    "    \n",
    "    b2 = turtle.Turtle()\n",
    "    b2.shape(\"square\")\n",
    "    b2.shapesize(stretch_wid=box2['w']/2*SCALE/10, stretch_len=box2['w']/2*SCALE/10, outline=None)\n",
    "    b2.color(\"blue\")\n",
    "    b2.penup()\n",
    "    b2.speed(0)\n",
    "    b2.goto( box2['x1']*SCALE + box2['w']/2*SCALE + SHIFT , box2['w']/2*SCALE )\n",
    "    b2.dx = box2['v']*SCALE/30\n",
    "    \n",
    "    wn.tracer(0)\n",
    "    \n",
    "    while True:\n",
    "        \n",
    "        wn.update()\n",
    "        \n",
    "        old_coll = collisions\n",
    "        #move\n",
    "        b1.setx(b1.xcor() + b1.dx)\n",
    "        b2.setx(b2.xcor() + b2.dx)\n",
    "        \n",
    "        box1['x1']= b1.xcor()/SCALE - box1['w']/2 - SHIFT/SCALE\n",
    "        box2['x1']= b2.xcor()/SCALE - box2['w']/2 - SHIFT/SCALE\n",
    "\n",
    "        \n",
    "        if box1['x1'] <= WALL:\n",
    "            box1 = collision_with_wall(box1)\n",
    "            b1.dx = box1['v']*SCALE/30\n",
    "            collisions += 1\n",
    "            \n",
    "        if box2['x1'] <= WALL:\n",
    "            box2 = collision_with_wall(box2)\n",
    "            b2.dx = box2['v']*SCALE/30\n",
    "            collisions += 1\n",
    "  \n",
    "            \n",
    "        if box1['x1']+box1['w'] >= box2['x1']:\n",
    "            box1, box2 = collision(box1, box2)\n",
    "            b1.dx = box1['v']*SCALE/30\n",
    "            b2.dx = box2['v']*SCALE/30\n",
    "            \n",
    "            collisions += 1\n",
    "        \n",
    "        if old_coll != collisions:\n",
    "            label.clear()\n",
    "            label.write(\"Collisions: {}\".format(collisions), move=False, align=\"left\", font=(\"Deja Vu Sans Mono\", 15, \"normal\"))\n",
    "            \n",
    "        #if box2['x1']*SCALE+ SHIFT > 350:\n",
    "            #break\n",
    "    \n",
    "    #wn.bye()\n",
    "    wn.mainloop()\n",
    "    \n",
    "    return box1,box2,collisions"
   ]
  },
  {
   "cell_type": "code",
   "execution_count": 65,
   "metadata": {},
   "outputs": [],
   "source": [
    "def collision_with_wall(box):\n",
    "    box['v'] *= -1\n",
    "    return box\n",
    "\n",
    "def collision(box1, box2):\n",
    "    \n",
    "    m1 = box1['m']\n",
    "    m2 = box2['m']\n",
    "    u1 = box1['v']\n",
    "    u2 = box2['v']\n",
    "    \n",
    "    box1['v']= (m1-m2)/(m1+m2) * u1 + 2*m2/(m1+m2) * u2\n",
    "    \n",
    "    box2['v']= (m2-m1)/(m1+m2) * u2 + 2*m1/(m1+m2) * u1\n",
    "    \n",
    "    \n",
    "    return box1,box2"
   ]
  },
  {
   "cell_type": "code",
   "execution_count": 70,
   "metadata": {},
   "outputs": [
    {
     "ename": "TclError",
     "evalue": "invalid command name \".!canvas\"",
     "output_type": "error",
     "traceback": [
      "\u001b[0;31m---------------------------------------------------------------------------\u001b[0m",
      "\u001b[0;31mTclError\u001b[0m                                  Traceback (most recent call last)",
      "\u001b[0;32m<ipython-input-70-34e4234fe946>\u001b[0m in \u001b[0;36m<module>\u001b[0;34m\u001b[0m\n\u001b[1;32m      1\u001b[0m \u001b[0mbox1\u001b[0m \u001b[0;34m=\u001b[0m\u001b[0;34m{\u001b[0m\u001b[0;34m'x1'\u001b[0m\u001b[0;34m:\u001b[0m \u001b[0;36m10\u001b[0m \u001b[0;34m,\u001b[0m \u001b[0;34m'w'\u001b[0m\u001b[0;34m:\u001b[0m \u001b[0;36m0.5\u001b[0m\u001b[0;34m,\u001b[0m \u001b[0;34m'v'\u001b[0m \u001b[0;34m:\u001b[0m \u001b[0;36m0\u001b[0m \u001b[0;34m,\u001b[0m \u001b[0;34m'm'\u001b[0m\u001b[0;34m:\u001b[0m \u001b[0;36m1\u001b[0m \u001b[0;34m}\u001b[0m\u001b[0;34m\u001b[0m\u001b[0;34m\u001b[0m\u001b[0m\n\u001b[1;32m      2\u001b[0m \u001b[0mbox2\u001b[0m \u001b[0;34m=\u001b[0m \u001b[0;34m{\u001b[0m\u001b[0;34m'x1'\u001b[0m\u001b[0;34m:\u001b[0m\u001b[0;36m20\u001b[0m \u001b[0;34m,\u001b[0m \u001b[0;34m'w'\u001b[0m\u001b[0;34m:\u001b[0m \u001b[0;36m3\u001b[0m\u001b[0;34m,\u001b[0m \u001b[0;34m'v'\u001b[0m \u001b[0;34m:\u001b[0m \u001b[0;34m-\u001b[0m\u001b[0;36m0.1\u001b[0m\u001b[0;34m,\u001b[0m \u001b[0;34m'm'\u001b[0m\u001b[0;34m:\u001b[0m \u001b[0;36m100\u001b[0m\u001b[0;34m**\u001b[0m\u001b[0;36m2\u001b[0m \u001b[0;34m}\u001b[0m\u001b[0;34m\u001b[0m\u001b[0;34m\u001b[0m\u001b[0m\n\u001b[0;32m----> 3\u001b[0;31m \u001b[0mmain2\u001b[0m\u001b[0;34m(\u001b[0m\u001b[0mbox1\u001b[0m\u001b[0;34m,\u001b[0m\u001b[0mbox2\u001b[0m\u001b[0;34m)\u001b[0m\u001b[0;34m\u001b[0m\u001b[0;34m\u001b[0m\u001b[0m\n\u001b[0m",
      "\u001b[0;32m<ipython-input-64-bc8e32adcc98>\u001b[0m in \u001b[0;36mmain2\u001b[0;34m(box1, box2)\u001b[0m\n\u001b[1;32m     66\u001b[0m         \u001b[0mold_coll\u001b[0m \u001b[0;34m=\u001b[0m \u001b[0mcollisions\u001b[0m\u001b[0;34m\u001b[0m\u001b[0;34m\u001b[0m\u001b[0m\n\u001b[1;32m     67\u001b[0m         \u001b[0;31m#move\u001b[0m\u001b[0;34m\u001b[0m\u001b[0;34m\u001b[0m\u001b[0;34m\u001b[0m\u001b[0m\n\u001b[0;32m---> 68\u001b[0;31m         \u001b[0mb1\u001b[0m\u001b[0;34m.\u001b[0m\u001b[0msetx\u001b[0m\u001b[0;34m(\u001b[0m\u001b[0mb1\u001b[0m\u001b[0;34m.\u001b[0m\u001b[0mxcor\u001b[0m\u001b[0;34m(\u001b[0m\u001b[0;34m)\u001b[0m \u001b[0;34m+\u001b[0m \u001b[0mb1\u001b[0m\u001b[0;34m.\u001b[0m\u001b[0mdx\u001b[0m\u001b[0;34m)\u001b[0m\u001b[0;34m\u001b[0m\u001b[0;34m\u001b[0m\u001b[0m\n\u001b[0m\u001b[1;32m     69\u001b[0m         \u001b[0mb2\u001b[0m\u001b[0;34m.\u001b[0m\u001b[0msetx\u001b[0m\u001b[0;34m(\u001b[0m\u001b[0mb2\u001b[0m\u001b[0;34m.\u001b[0m\u001b[0mxcor\u001b[0m\u001b[0;34m(\u001b[0m\u001b[0;34m)\u001b[0m \u001b[0;34m+\u001b[0m \u001b[0mb2\u001b[0m\u001b[0;34m.\u001b[0m\u001b[0mdx\u001b[0m\u001b[0;34m)\u001b[0m\u001b[0;34m\u001b[0m\u001b[0;34m\u001b[0m\u001b[0m\n\u001b[1;32m     70\u001b[0m \u001b[0;34m\u001b[0m\u001b[0m\n",
      "\u001b[0;32m~/opt/anaconda3/lib/python3.7/turtle.py\u001b[0m in \u001b[0;36msetx\u001b[0;34m(self, x)\u001b[0m\n\u001b[1;32m   1806\u001b[0m         \u001b[0;34m(\u001b[0m\u001b[0;36m10.00\u001b[0m\u001b[0;34m,\u001b[0m \u001b[0;36m240.00\u001b[0m\u001b[0;34m)\u001b[0m\u001b[0;34m\u001b[0m\u001b[0;34m\u001b[0m\u001b[0m\n\u001b[1;32m   1807\u001b[0m         \"\"\"\n\u001b[0;32m-> 1808\u001b[0;31m         \u001b[0mself\u001b[0m\u001b[0;34m.\u001b[0m\u001b[0m_goto\u001b[0m\u001b[0;34m(\u001b[0m\u001b[0mVec2D\u001b[0m\u001b[0;34m(\u001b[0m\u001b[0mx\u001b[0m\u001b[0;34m,\u001b[0m \u001b[0mself\u001b[0m\u001b[0;34m.\u001b[0m\u001b[0m_position\u001b[0m\u001b[0;34m[\u001b[0m\u001b[0;36m1\u001b[0m\u001b[0;34m]\u001b[0m\u001b[0;34m)\u001b[0m\u001b[0;34m)\u001b[0m\u001b[0;34m\u001b[0m\u001b[0;34m\u001b[0m\u001b[0m\n\u001b[0m\u001b[1;32m   1809\u001b[0m \u001b[0;34m\u001b[0m\u001b[0m\n\u001b[1;32m   1810\u001b[0m     \u001b[0;32mdef\u001b[0m \u001b[0msety\u001b[0m\u001b[0;34m(\u001b[0m\u001b[0mself\u001b[0m\u001b[0;34m,\u001b[0m \u001b[0my\u001b[0m\u001b[0;34m)\u001b[0m\u001b[0;34m:\u001b[0m\u001b[0;34m\u001b[0m\u001b[0;34m\u001b[0m\u001b[0m\n",
      "\u001b[0;32m~/opt/anaconda3/lib/python3.7/turtle.py\u001b[0m in \u001b[0;36m_goto\u001b[0;34m(self, end)\u001b[0m\n\u001b[1;32m   3156\u001b[0m                       (self.currentLineItem,\n\u001b[1;32m   3157\u001b[0m                       \u001b[0mself\u001b[0m\u001b[0;34m.\u001b[0m\u001b[0mcurrentLine\u001b[0m\u001b[0;34m[\u001b[0m\u001b[0;34m:\u001b[0m\u001b[0;34m]\u001b[0m\u001b[0;34m,\u001b[0m\u001b[0;34m\u001b[0m\u001b[0;34m\u001b[0m\u001b[0m\n\u001b[0;32m-> 3158\u001b[0;31m                       \u001b[0mscreen\u001b[0m\u001b[0;34m.\u001b[0m\u001b[0m_pointlist\u001b[0m\u001b[0;34m(\u001b[0m\u001b[0mself\u001b[0m\u001b[0;34m.\u001b[0m\u001b[0mcurrentLineItem\u001b[0m\u001b[0;34m)\u001b[0m\u001b[0;34m,\u001b[0m\u001b[0;34m\u001b[0m\u001b[0;34m\u001b[0m\u001b[0m\n\u001b[0m\u001b[1;32m   3159\u001b[0m                       self.items[:])\n\u001b[1;32m   3160\u001b[0m                       )\n",
      "\u001b[0;32m~/opt/anaconda3/lib/python3.7/turtle.py\u001b[0m in \u001b[0;36m_pointlist\u001b[0;34m(self, item)\u001b[0m\n\u001b[1;32m    753\u001b[0m         (9.9999999999999982, 0.0)]\n\u001b[1;32m    754\u001b[0m         >>> \"\"\"\n\u001b[0;32m--> 755\u001b[0;31m         \u001b[0mcl\u001b[0m \u001b[0;34m=\u001b[0m \u001b[0mself\u001b[0m\u001b[0;34m.\u001b[0m\u001b[0mcv\u001b[0m\u001b[0;34m.\u001b[0m\u001b[0mcoords\u001b[0m\u001b[0;34m(\u001b[0m\u001b[0mitem\u001b[0m\u001b[0;34m)\u001b[0m\u001b[0;34m\u001b[0m\u001b[0;34m\u001b[0m\u001b[0m\n\u001b[0m\u001b[1;32m    756\u001b[0m         \u001b[0mpl\u001b[0m \u001b[0;34m=\u001b[0m \u001b[0;34m[\u001b[0m\u001b[0;34m(\u001b[0m\u001b[0mcl\u001b[0m\u001b[0;34m[\u001b[0m\u001b[0mi\u001b[0m\u001b[0;34m]\u001b[0m\u001b[0;34m,\u001b[0m \u001b[0;34m-\u001b[0m\u001b[0mcl\u001b[0m\u001b[0;34m[\u001b[0m\u001b[0mi\u001b[0m\u001b[0;34m+\u001b[0m\u001b[0;36m1\u001b[0m\u001b[0;34m]\u001b[0m\u001b[0;34m)\u001b[0m \u001b[0;32mfor\u001b[0m \u001b[0mi\u001b[0m \u001b[0;32min\u001b[0m \u001b[0mrange\u001b[0m\u001b[0;34m(\u001b[0m\u001b[0;36m0\u001b[0m\u001b[0;34m,\u001b[0m \u001b[0mlen\u001b[0m\u001b[0;34m(\u001b[0m\u001b[0mcl\u001b[0m\u001b[0;34m)\u001b[0m\u001b[0;34m,\u001b[0m \u001b[0;36m2\u001b[0m\u001b[0;34m)\u001b[0m\u001b[0;34m]\u001b[0m\u001b[0;34m\u001b[0m\u001b[0;34m\u001b[0m\u001b[0m\n\u001b[1;32m    757\u001b[0m         \u001b[0;32mreturn\u001b[0m  \u001b[0mpl\u001b[0m\u001b[0;34m\u001b[0m\u001b[0;34m\u001b[0m\u001b[0m\n",
      "\u001b[0;32m<string>\u001b[0m in \u001b[0;36mcoords\u001b[0;34m(self, *args, **kw)\u001b[0m\n",
      "\u001b[0;32m~/opt/anaconda3/lib/python3.7/tkinter/__init__.py\u001b[0m in \u001b[0;36mcoords\u001b[0;34m(self, *args)\u001b[0m\n\u001b[1;32m   2467\u001b[0m         return [self.tk.getdouble(x) for x in\n\u001b[1;32m   2468\u001b[0m                            self.tk.splitlist(\n\u001b[0;32m-> 2469\u001b[0;31m                    self.tk.call((self._w, 'coords') + args))]\n\u001b[0m\u001b[1;32m   2470\u001b[0m     \u001b[0;32mdef\u001b[0m \u001b[0m_create\u001b[0m\u001b[0;34m(\u001b[0m\u001b[0mself\u001b[0m\u001b[0;34m,\u001b[0m \u001b[0mitemType\u001b[0m\u001b[0;34m,\u001b[0m \u001b[0margs\u001b[0m\u001b[0;34m,\u001b[0m \u001b[0mkw\u001b[0m\u001b[0;34m)\u001b[0m\u001b[0;34m:\u001b[0m \u001b[0;31m# Args: (val, val, ..., cnf={})\u001b[0m\u001b[0;34m\u001b[0m\u001b[0;34m\u001b[0m\u001b[0m\n\u001b[1;32m   2471\u001b[0m         \u001b[0;34m\"\"\"Internal function.\"\"\"\u001b[0m\u001b[0;34m\u001b[0m\u001b[0;34m\u001b[0m\u001b[0m\n",
      "\u001b[0;31mTclError\u001b[0m: invalid command name \".!canvas\""
     ]
    }
   ],
   "source": [
    "box1 ={'x1': 10 , 'w': 0.5, 'v' : 0 , 'm': 1 }\n",
    "box2 = {'x1':20 , 'w': 3, 'v' : -0.1, 'm': 100**2 }\n",
    "main2(box1,box2)"
   ]
  },
  {
   "cell_type": "code",
   "execution_count": null,
   "metadata": {},
   "outputs": [],
   "source": []
  },
  {
   "cell_type": "code",
   "execution_count": null,
   "metadata": {},
   "outputs": [],
   "source": []
  },
  {
   "cell_type": "code",
   "execution_count": 38,
   "metadata": {},
   "outputs": [
    {
     "name": "stdout",
     "output_type": "stream",
     "text": [
      "Object `b2.shape` not found.\n"
     ]
    }
   ],
   "source": []
  },
  {
   "cell_type": "code",
   "execution_count": null,
   "metadata": {},
   "outputs": [],
   "source": []
  },
  {
   "cell_type": "code",
   "execution_count": null,
   "metadata": {},
   "outputs": [],
   "source": []
  },
  {
   "cell_type": "code",
   "execution_count": null,
   "metadata": {},
   "outputs": [],
   "source": []
  },
  {
   "cell_type": "code",
   "execution_count": null,
   "metadata": {},
   "outputs": [],
   "source": []
  },
  {
   "cell_type": "code",
   "execution_count": null,
   "metadata": {},
   "outputs": [],
   "source": []
  }
 ],
 "metadata": {
  "kernelspec": {
   "display_name": "Python 3",
   "language": "python",
   "name": "python3"
  },
  "language_info": {
   "codemirror_mode": {
    "name": "ipython",
    "version": 3
   },
   "file_extension": ".py",
   "mimetype": "text/x-python",
   "name": "python",
   "nbconvert_exporter": "python",
   "pygments_lexer": "ipython3",
   "version": "3.7.6"
  }
 },
 "nbformat": 4,
 "nbformat_minor": 4
}
