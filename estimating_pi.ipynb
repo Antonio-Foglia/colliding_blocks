{
 "cells": [
  {
   "cell_type": "code",
   "execution_count": 18,
   "metadata": {},
   "outputs": [],
   "source": [
    "import time"
   ]
  },
  {
   "cell_type": "code",
   "execution_count": 19,
   "metadata": {},
   "outputs": [],
   "source": [
    "WALL = 0\n",
    "def main(box1, box2,realtime=False, sim_time = float('inf'), interval=0.0001):\n",
    "    \n",
    "    t = interval\n",
    "    collisions = 0\n",
    "    \n",
    "    while t < sim_time:\n",
    "        \n",
    "        #start = time.time()\n",
    "        \n",
    "        box1 = move(box1, interval)\n",
    "        box2 = move(box2, interval)\n",
    "        t += interval\n",
    "        \n",
    "        if box1['x1'] <= WALL:\n",
    "            box1 = collision_with_wall(box1)\n",
    "            collisions += 1\n",
    "            if realtime:\n",
    "                print(collisions,end = \"\\r\")\n",
    "                #print('box1: {} \\nbox2: {}'.format(box1,box2))\n",
    "                #print(str(collisions) + \"(wall)\" ,end = \"\\r\")\n",
    "            \n",
    "        if box2['x1'] <= WALL:\n",
    "            box2 = collision_with_wall(box2)\n",
    "            collisions += 1\n",
    "            if realtime:\n",
    "                print(collisions,end = \"\\r\")\n",
    "                #print('box1: {} \\nbox2: {}'.format(box1,box2))\n",
    "            \n",
    "        if box1['x1']+box1['w'] >= box2['x1']:\n",
    "            box1, box2 = collision(box1, box2)\n",
    "            collisions += 1\n",
    "            if realtime:\n",
    "                print(collisions,end = \"\\r\")\n",
    "                #print('box1: {} \\nbox2: {}'.format(box1,box2))\n",
    "                #print(str(collisions) + \"(boxs)\" ,end = \"\\r\")\n",
    "        \n",
    "        if terminal(box1,box2):\n",
    "            \n",
    "            return box1,box2,collisions\n",
    "            \n",
    "        \n",
    "        #end = time.time()\n",
    "        if realtime:\n",
    "            #if interval-(end - start) > 0:\n",
    "                time.sleep(interval)#-(end - start))\n",
    "        \n",
    "    return box1,box2,collisions\n",
    "    "
   ]
  },
  {
   "cell_type": "code",
   "execution_count": 20,
   "metadata": {},
   "outputs": [],
   "source": [
    "\n",
    "def move( box , interval):\n",
    "    box['x1'] = box['x1'] + box['v'] * interval\n",
    "    return box\n",
    "\n",
    "def collision_with_wall(box):\n",
    "    #box['x1'] = WALL\n",
    "    box['v'] *= -1\n",
    "    return box\n",
    "\n",
    "def collision(box1, box2):\n",
    "    \n",
    "    m1 = box1['m']\n",
    "    m2 = box2['m']\n",
    "    u1 = box1['v']\n",
    "    u2 = box2['v']\n",
    "    \n",
    "    box1['v']= (m1-m2)/(m1+m2) * u1 + 2*m2/(m1+m2) * u2\n",
    "    \n",
    "    box2['v']= (m2-m1)/(m1+m2) * u2 + 2*m1/(m1+m2) * u1\n",
    "    \n",
    "    \n",
    "    return box1,box2\n",
    "\n",
    "def terminal(box1,box2):\n",
    "    \n",
    "    if box2['v'] >= box1['v'] and box1['v'] > 0 and box2['v'] > 0:\n",
    "        return True\n",
    "    \n",
    "    return False\n",
    "    "
   ]
  },
  {
   "cell_type": "code",
   "execution_count": 26,
   "metadata": {
    "scrolled": true
   },
   "outputs": [
    {
     "ename": "KeyboardInterrupt",
     "evalue": "",
     "output_type": "error",
     "traceback": [
      "\u001b[0;31m---------------------------------------------------------------------------\u001b[0m",
      "\u001b[0;31mKeyboardInterrupt\u001b[0m                         Traceback (most recent call last)",
      "\u001b[0;32m<ipython-input-26-0ef1772a5218>\u001b[0m in \u001b[0;36m<module>\u001b[0;34m\u001b[0m\n\u001b[1;32m      1\u001b[0m \u001b[0mb1\u001b[0m \u001b[0;34m=\u001b[0m\u001b[0;34m{\u001b[0m\u001b[0;34m'x1'\u001b[0m\u001b[0;34m:\u001b[0m\u001b[0;36m5\u001b[0m \u001b[0;34m,\u001b[0m \u001b[0;34m'w'\u001b[0m\u001b[0;34m:\u001b[0m \u001b[0;36m1\u001b[0m\u001b[0;34m,\u001b[0m \u001b[0;34m'v'\u001b[0m \u001b[0;34m:\u001b[0m \u001b[0;36m0\u001b[0m \u001b[0;34m,\u001b[0m \u001b[0;34m'm'\u001b[0m\u001b[0;34m:\u001b[0m \u001b[0;36m1\u001b[0m \u001b[0;34m}\u001b[0m\u001b[0;34m\u001b[0m\u001b[0;34m\u001b[0m\u001b[0m\n\u001b[1;32m      2\u001b[0m \u001b[0mb2\u001b[0m \u001b[0;34m=\u001b[0m \u001b[0;34m{\u001b[0m\u001b[0;34m'x1'\u001b[0m\u001b[0;34m:\u001b[0m\u001b[0;36m10\u001b[0m \u001b[0;34m,\u001b[0m \u001b[0;34m'w'\u001b[0m\u001b[0;34m:\u001b[0m \u001b[0;36m2\u001b[0m\u001b[0;34m,\u001b[0m \u001b[0;34m'v'\u001b[0m \u001b[0;34m:\u001b[0m \u001b[0;34m-\u001b[0m\u001b[0;36m3\u001b[0m\u001b[0;34m,\u001b[0m \u001b[0;34m'm'\u001b[0m\u001b[0;34m:\u001b[0m \u001b[0;36m100\u001b[0m\u001b[0;34m**\u001b[0m\u001b[0;36m4\u001b[0m \u001b[0;34m}\u001b[0m\u001b[0;34m\u001b[0m\u001b[0;34m\u001b[0m\u001b[0m\n\u001b[0;32m----> 3\u001b[0;31m \u001b[0mmain\u001b[0m\u001b[0;34m(\u001b[0m\u001b[0mb1\u001b[0m\u001b[0;34m,\u001b[0m\u001b[0mb2\u001b[0m\u001b[0;34m)\u001b[0m\u001b[0;34m\u001b[0m\u001b[0;34m\u001b[0m\u001b[0m\n\u001b[0m",
      "\u001b[0;32m<ipython-input-19-9234ef7c89ea>\u001b[0m in \u001b[0;36mmain\u001b[0;34m(box1, box2, realtime, sim_time, interval)\u001b[0m\n\u001b[1;32m     36\u001b[0m                 \u001b[0;31m#print(str(collisions) + \"(boxs)\" ,end = \"\\r\")\u001b[0m\u001b[0;34m\u001b[0m\u001b[0;34m\u001b[0m\u001b[0;34m\u001b[0m\u001b[0m\n\u001b[1;32m     37\u001b[0m \u001b[0;34m\u001b[0m\u001b[0m\n\u001b[0;32m---> 38\u001b[0;31m         \u001b[0;32mif\u001b[0m \u001b[0mterminal\u001b[0m\u001b[0;34m(\u001b[0m\u001b[0mbox1\u001b[0m\u001b[0;34m,\u001b[0m\u001b[0mbox2\u001b[0m\u001b[0;34m)\u001b[0m\u001b[0;34m:\u001b[0m\u001b[0;34m\u001b[0m\u001b[0;34m\u001b[0m\u001b[0m\n\u001b[0m\u001b[1;32m     39\u001b[0m \u001b[0;34m\u001b[0m\u001b[0m\n\u001b[1;32m     40\u001b[0m             \u001b[0;32mreturn\u001b[0m \u001b[0mbox1\u001b[0m\u001b[0;34m,\u001b[0m\u001b[0mbox2\u001b[0m\u001b[0;34m,\u001b[0m\u001b[0mcollisions\u001b[0m\u001b[0;34m\u001b[0m\u001b[0;34m\u001b[0m\u001b[0m\n",
      "\u001b[0;32m<ipython-input-20-afbb9a3891d0>\u001b[0m in \u001b[0;36mterminal\u001b[0;34m(box1, box2)\u001b[0m\n\u001b[1;32m     24\u001b[0m \u001b[0;32mdef\u001b[0m \u001b[0mterminal\u001b[0m\u001b[0;34m(\u001b[0m\u001b[0mbox1\u001b[0m\u001b[0;34m,\u001b[0m\u001b[0mbox2\u001b[0m\u001b[0;34m)\u001b[0m\u001b[0;34m:\u001b[0m\u001b[0;34m\u001b[0m\u001b[0;34m\u001b[0m\u001b[0m\n\u001b[1;32m     25\u001b[0m \u001b[0;34m\u001b[0m\u001b[0m\n\u001b[0;32m---> 26\u001b[0;31m     \u001b[0;32mif\u001b[0m \u001b[0mbox2\u001b[0m\u001b[0;34m[\u001b[0m\u001b[0;34m'v'\u001b[0m\u001b[0;34m]\u001b[0m \u001b[0;34m>=\u001b[0m \u001b[0mbox1\u001b[0m\u001b[0;34m[\u001b[0m\u001b[0;34m'v'\u001b[0m\u001b[0;34m]\u001b[0m \u001b[0;32mand\u001b[0m \u001b[0mbox1\u001b[0m\u001b[0;34m[\u001b[0m\u001b[0;34m'v'\u001b[0m\u001b[0;34m]\u001b[0m \u001b[0;34m>\u001b[0m \u001b[0;36m0\u001b[0m \u001b[0;32mand\u001b[0m \u001b[0mbox2\u001b[0m\u001b[0;34m[\u001b[0m\u001b[0;34m'v'\u001b[0m\u001b[0;34m]\u001b[0m \u001b[0;34m>\u001b[0m \u001b[0;36m0\u001b[0m\u001b[0;34m:\u001b[0m\u001b[0;34m\u001b[0m\u001b[0;34m\u001b[0m\u001b[0m\n\u001b[0m\u001b[1;32m     27\u001b[0m         \u001b[0;32mreturn\u001b[0m \u001b[0;32mTrue\u001b[0m\u001b[0;34m\u001b[0m\u001b[0;34m\u001b[0m\u001b[0m\n\u001b[1;32m     28\u001b[0m \u001b[0;34m\u001b[0m\u001b[0m\n",
      "\u001b[0;31mKeyboardInterrupt\u001b[0m: "
     ]
    }
   ],
   "source": [
    "b1 ={'x1':5 , 'w': 1, 'v' : 0 , 'm': 1 }\n",
    "b2 = {'x1':10 , 'w': 2, 'v' : -3, 'm': 100**4 }\n",
    "main(b1,b2)"
   ]
  },
  {
   "cell_type": "code",
   "execution_count": null,
   "metadata": {},
   "outputs": [],
   "source": []
  },
  {
   "cell_type": "code",
   "execution_count": null,
   "metadata": {},
   "outputs": [],
   "source": []
  },
  {
   "cell_type": "code",
   "execution_count": null,
   "metadata": {},
   "outputs": [],
   "source": []
  },
  {
   "cell_type": "code",
   "execution_count": 10,
   "metadata": {},
   "outputs": [
    {
     "name": "stdout",
     "output_type": "stream",
     "text": [
      "hello\n",
      "0.00022292137145996094\n"
     ]
    }
   ],
   "source": [
    "start = time.time()\n",
    "print(\"hello\")\n",
    "end = time.time()\n",
    "print(end - start)"
   ]
  },
  {
   "cell_type": "code",
   "execution_count": null,
   "metadata": {},
   "outputs": [],
   "source": []
  },
  {
   "cell_type": "code",
   "execution_count": null,
   "metadata": {},
   "outputs": [],
   "source": []
  },
  {
   "cell_type": "code",
   "execution_count": null,
   "metadata": {},
   "outputs": [],
   "source": []
  }
 ],
 "metadata": {
  "kernelspec": {
   "display_name": "Python 3",
   "language": "python",
   "name": "python3"
  },
  "language_info": {
   "codemirror_mode": {
    "name": "ipython",
    "version": 3
   },
   "file_extension": ".py",
   "mimetype": "text/x-python",
   "name": "python",
   "nbconvert_exporter": "python",
   "pygments_lexer": "ipython3",
   "version": "3.7.6"
  }
 },
 "nbformat": 4,
 "nbformat_minor": 4
}
